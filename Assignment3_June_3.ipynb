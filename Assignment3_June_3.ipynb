{
 "cells": [
  {
   "cell_type": "markdown",
   "id": "f4f4c7e1",
   "metadata": {},
   "source": [
    "1. What is the difference between set and dictionary,expalin with the suitable example"
   ]
  },
  {
   "cell_type": "code",
   "execution_count": 33,
   "id": "9792c040",
   "metadata": {},
   "outputs": [
    {
     "name": "stdout",
     "output_type": "stream",
     "text": [
      "{1, 2, 4, 5, 6, 7}\n"
     ]
    }
   ],
   "source": [
    "s1={1,2,4,5,6,7}\n",
    "print(s1)"
   ]
  },
  {
   "cell_type": "code",
   "execution_count": 34,
   "id": "b456f156",
   "metadata": {},
   "outputs": [],
   "source": [
    "di={1:'abc',2:'pqr',3:'xyz'}"
   ]
  },
  {
   "cell_type": "code",
   "execution_count": 35,
   "id": "7e7db8f1",
   "metadata": {},
   "outputs": [
    {
     "data": {
      "text/plain": [
       "{1: 'abc', 2: 'pqr', 3: 'xyz'}"
      ]
     },
     "execution_count": 35,
     "metadata": {},
     "output_type": "execute_result"
    }
   ],
   "source": [
    "di"
   ]
  },
  {
   "cell_type": "markdown",
   "id": "31fa505b",
   "metadata": {},
   "source": [
    "2.write a program to print the following pattern:\n",
    "*\n",
    "* *\n",
    "* * *"
   ]
  },
  {
   "cell_type": "code",
   "execution_count": 36,
   "id": "e9c57adf",
   "metadata": {},
   "outputs": [
    {
     "name": "stdout",
     "output_type": "stream",
     "text": [
      "\n",
      "* \n",
      "* * \n",
      "* * * \n"
     ]
    }
   ],
   "source": [
    "for i in range(4):\n",
    "    print(\"* \"*i)"
   ]
  },
  {
   "cell_type": "markdown",
   "id": "57519c8a",
   "metadata": {},
   "source": [
    "3 Write a  program to print n natural number in ascending order using while loop"
   ]
  },
  {
   "cell_type": "code",
   "execution_count": 38,
   "id": "6b5dec9f",
   "metadata": {},
   "outputs": [
    {
     "name": "stdout",
     "output_type": "stream",
     "text": [
      "enter the number:10\n",
      "0\n",
      "1\n",
      "2\n",
      "3\n",
      "4\n",
      "5\n",
      "6\n",
      "7\n",
      "8\n",
      "9\n",
      "10\n"
     ]
    }
   ],
   "source": [
    "n= int(input('enter the number:'))\n",
    "i=0\n",
    "while i<=n:\n",
    "    print(i)\n",
    "    i=i+1"
   ]
  },
  {
   "cell_type": "markdown",
   "id": "3f821205",
   "metadata": {},
   "source": [
    "4. write a program in python to swap between two numbers without using a third variable"
   ]
  },
  {
   "cell_type": "code",
   "execution_count": 51,
   "id": "6f2161a2",
   "metadata": {},
   "outputs": [
    {
     "name": "stdout",
     "output_type": "stream",
     "text": [
      "3\n",
      "2\n"
     ]
    }
   ],
   "source": [
    "a=2\n",
    "b=3\n",
    "a,b=b,a\n",
    "print(a)\n",
    "print(b)"
   ]
  },
  {
   "cell_type": "markdown",
   "id": "5707b219",
   "metadata": {},
   "source": [
    "5. how to create function with default arguments in python (Example)"
   ]
  },
  {
   "cell_type": "code",
   "execution_count": 41,
   "id": "15bba13b",
   "metadata": {},
   "outputs": [
    {
     "name": "stdout",
     "output_type": "stream",
     "text": [
      "5\n"
     ]
    }
   ],
   "source": [
    "def sum(a,b=4):\n",
    "    print(a+b)\n",
    "sum(2,3)"
   ]
  },
  {
   "cell_type": "markdown",
   "id": "1d284e2b",
   "metadata": {},
   "source": [
    "6.display a square of numbers from 1 to 10 using list comprehension"
   ]
  },
  {
   "cell_type": "code",
   "execution_count": 42,
   "id": "b2cc5350",
   "metadata": {},
   "outputs": [
    {
     "name": "stdout",
     "output_type": "stream",
     "text": [
      "[1, 4, 9, 16, 25, 36, 49, 64, 81, 100]\n"
     ]
    }
   ],
   "source": [
    "list1=[i*i for i in range(1,11)]\n",
    "print(list1)"
   ]
  },
  {
   "cell_type": "markdown",
   "id": "64155d70",
   "metadata": {},
   "source": [
    "7.what is polymorphism? expalin with example(class)"
   ]
  },
  {
   "cell_type": "code",
   "execution_count": 46,
   "id": "06cd22b0",
   "metadata": {},
   "outputs": [],
   "source": [
    "class college:\n",
    "    def login(self):\n",
    "        print('login the website')\n",
    "    def login(self):\n",
    "        print('Thank u to login')\n",
    "        \n",
    "obj=college()"
   ]
  },
  {
   "cell_type": "code",
   "execution_count": 47,
   "id": "b0f9e12d",
   "metadata": {},
   "outputs": [
    {
     "name": "stdout",
     "output_type": "stream",
     "text": [
      "Thank u to login\n"
     ]
    }
   ],
   "source": [
    "obj.login()"
   ]
  },
  {
   "cell_type": "markdown",
   "id": "6023674a",
   "metadata": {},
   "source": [
    "8. Explain conditional probability with example?"
   ]
  },
  {
   "cell_type": "markdown",
   "id": "08a8dc99",
   "metadata": {},
   "source": [
    "p(A/B) is the probability of event A occurring, given that event B occurs. \n",
    "For example, given that you draw a red card, what is a probability of a six (p(six/red))=2/26=1/13. \n",
    "So out of the 26 red cards (given a red card), there are two fours so 2/26=1/13."
   ]
  },
  {
   "cell_type": "markdown",
   "id": "1bd41241",
   "metadata": {},
   "source": [
    "9. Explain Emphirical rule  with diagram ."
   ]
  },
  {
   "cell_type": "markdown",
   "id": "d98500e3",
   "metadata": {},
   "source": [
    "68% of the data fall in +/- 1 standard deviation away from the mean\n",
    "95% of the data fall in +/- 2 standard deviation away from the mean\n",
    "99% of the data fall in +/- 3 standard deviation away from the mean"
   ]
  },
  {
   "cell_type": "markdown",
   "id": "2840bef3",
   "metadata": {},
   "source": [
    "10. What is hypothesis Testing? What is the Role of p value in HT?"
   ]
  },
  {
   "cell_type": "markdown",
   "id": "6f3b7d3f",
   "metadata": {},
   "source": [
    "h0=after and before covid is same population = null hypothesis\n",
    "h1=after and before covid is not same population = altarnative hypothesis\n",
    "\n",
    "exammple:- p=0.05\n",
    "p < 0.05 then null hypothesis is reject\n",
    "p>0.05 then null hypothesis is fail to reject"
   ]
  },
  {
   "cell_type": "markdown",
   "id": "be88cd55",
   "metadata": {},
   "source": [
    "Q2)List all the probability distribution with example"
   ]
  },
  {
   "cell_type": "code",
   "execution_count": 49,
   "id": "c6ea84e9",
   "metadata": {},
   "outputs": [],
   "source": [
    "from scipy.stats import stats\n",
    "from scipy.stats import norm\n",
    "import numpy as np\n",
    "import seaborn as sns\n",
    "import matplotlib.pyplot as plt"
   ]
  },
  {
   "cell_type": "markdown",
   "id": "81ad4219",
   "metadata": {},
   "source": [
    "# 1.noraml distribution\n",
    "\n",
    "Noraml distribution is exactly similar means half values are left side and half values  are right side"
   ]
  },
  {
   "cell_type": "markdown",
   "id": "7a3e4841",
   "metadata": {},
   "source": [
    "stats.norm.cdf(x=24,loc=1000,scale=1)"
   ]
  },
  {
   "cell_type": "markdown",
   "id": "8e9f751b",
   "metadata": {},
   "source": [
    "# 2.uniform distribution \n",
    "\n",
    "The probabilities of getting these outcomes are equally likely and that is the basis of a uniform distribution"
   ]
  },
  {
   "cell_type": "markdown",
   "id": "733d7bca",
   "metadata": {},
   "source": [
    "stats.uniform.cdf(x=24,loc=100,scale=2)"
   ]
  },
  {
   "cell_type": "markdown",
   "id": "847f699c",
   "metadata": {},
   "source": [
    "# 3.Binomial distribution\n",
    "The probability of an event occurring is same in all trials and only two events"
   ]
  },
  {
   "cell_type": "markdown",
   "id": "7e20881f",
   "metadata": {},
   "source": [
    "n=3,k=np.arange(0,8),p=0.05\n",
    "binomial=stats.binom.pmf(n,p,k)\n",
    "binomial"
   ]
  },
  {
   "cell_type": "markdown",
   "id": "309fa238",
   "metadata": {},
   "source": [
    "# 4.exponential distribution\n",
    "\n",
    "amount of time between the event happens"
   ]
  },
  {
   "cell_type": "markdown",
   "id": "ef24c16a",
   "metadata": {},
   "source": [
    "exp=np.random.expoential(0.01,5000)\n",
    "plt.figure(figsize(7,4))\n",
    "plt.title('Exponential distribution',fontsize=15)\n",
    "sns.distplot(exp,hist=False)\n",
    "plt.show()"
   ]
  },
  {
   "cell_type": "markdown",
   "id": "7500e0ed",
   "metadata": {},
   "source": [
    "# 5.poission distribution\n",
    "\n",
    "number of events occuring in within a given time interval."
   ]
  },
  {
   "cell_type": "markdown",
   "id": "d50ae42a",
   "metadata": {},
   "source": [
    "rate=3\n",
    "n=np.arange(0,20)\n",
    "p=stats.poission.pmf(n,rate)\n",
    "p"
   ]
  },
  {
   "cell_type": "markdown",
   "id": "909f283f",
   "metadata": {},
   "source": [
    "# 6.Bernauli Distribution\n",
    "\n",
    "It has two possible outcomes 1(success) or failur(0)"
   ]
  },
  {
   "cell_type": "markdown",
   "id": "7c8b459e",
   "metadata": {},
   "source": [
    "example.Answering the quize"
   ]
  }
 ],
 "metadata": {
  "kernelspec": {
   "display_name": "Python 3 (ipykernel)",
   "language": "python",
   "name": "python3"
  },
  "language_info": {
   "codemirror_mode": {
    "name": "ipython",
    "version": 3
   },
   "file_extension": ".py",
   "mimetype": "text/x-python",
   "name": "python",
   "nbconvert_exporter": "python",
   "pygments_lexer": "ipython3",
   "version": "3.10.9"
  }
 },
 "nbformat": 4,
 "nbformat_minor": 5
}
